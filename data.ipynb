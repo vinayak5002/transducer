{
 "cells": [
  {
   "cell_type": "code",
   "execution_count": 23,
   "metadata": {},
   "outputs": [],
   "source": [
    "import pandas as pd\n",
    "import string"
   ]
  },
  {
   "cell_type": "code",
   "execution_count": 24,
   "metadata": {},
   "outputs": [
    {
     "data": {
      "text/html": [
       "<div>\n",
       "<style scoped>\n",
       "    .dataframe tbody tr th:only-of-type {\n",
       "        vertical-align: middle;\n",
       "    }\n",
       "\n",
       "    .dataframe tbody tr th {\n",
       "        vertical-align: top;\n",
       "    }\n",
       "\n",
       "    .dataframe thead th {\n",
       "        text-align: right;\n",
       "    }\n",
       "</style>\n",
       "<table border=\"1\" class=\"dataframe\">\n",
       "  <thead>\n",
       "    <tr style=\"text-align: right;\">\n",
       "      <th></th>\n",
       "      <th>path</th>\n",
       "      <th>accents</th>\n",
       "      <th>sentence</th>\n",
       "    </tr>\n",
       "  </thead>\n",
       "  <tbody>\n",
       "    <tr>\n",
       "      <th>0</th>\n",
       "      <td>common_voice_en_37476269.mp3</td>\n",
       "      <td>United States English</td>\n",
       "      <td>This led to both the Red Terror and the White ...</td>\n",
       "    </tr>\n",
       "    <tr>\n",
       "      <th>1</th>\n",
       "      <td>common_voice_en_37740889.mp3</td>\n",
       "      <td>England English</td>\n",
       "      <td>Paper wine labels have long been collected.</td>\n",
       "    </tr>\n",
       "    <tr>\n",
       "      <th>2</th>\n",
       "      <td>common_voice_en_37607972.mp3</td>\n",
       "      <td>United States English</td>\n",
       "      <td>The number of chime sets matches the number of...</td>\n",
       "    </tr>\n",
       "    <tr>\n",
       "      <th>3</th>\n",
       "      <td>common_voice_en_37437567.mp3</td>\n",
       "      <td>United States English</td>\n",
       "      <td>The Atbara flows only while there is rain in E...</td>\n",
       "    </tr>\n",
       "    <tr>\n",
       "      <th>4</th>\n",
       "      <td>common_voice_en_37288403.mp3</td>\n",
       "      <td>United States English</td>\n",
       "      <td>Katsande and her son were accused of voter int...</td>\n",
       "    </tr>\n",
       "  </tbody>\n",
       "</table>\n",
       "</div>"
      ],
      "text/plain": [
       "                           path                accents  \\\n",
       "0  common_voice_en_37476269.mp3  United States English   \n",
       "1  common_voice_en_37740889.mp3        England English   \n",
       "2  common_voice_en_37607972.mp3  United States English   \n",
       "3  common_voice_en_37437567.mp3  United States English   \n",
       "4  common_voice_en_37288403.mp3  United States English   \n",
       "\n",
       "                                            sentence  \n",
       "0  This led to both the Red Terror and the White ...  \n",
       "1        Paper wine labels have long been collected.  \n",
       "2  The number of chime sets matches the number of...  \n",
       "3  The Atbara flows only while there is rain in E...  \n",
       "4  Katsande and her son were accused of voter int...  "
      ]
     },
     "execution_count": 24,
     "metadata": {},
     "output_type": "execute_result"
    }
   ],
   "source": [
    "df = pd.read_csv('Data/validated_top10.csv', index_col=False)\n",
    "df.head()"
   ]
  },
  {
   "cell_type": "code",
   "execution_count": 25,
   "metadata": {},
   "outputs": [],
   "source": [
    "# loop through each row in the dataframe\n",
    "for index, row in df.iterrows():\n",
    "    sent = row['sentence']\n",
    "    \n",
    "    sent = sent.translate(str.maketrans('', '', string.punctuation))\n",
    "    sent = sent.translate(str.maketrans('', '', string.digits))\n",
    "    sent = ' '.join(sent.split())\n",
    "    \n",
    "    x = []\n",
    "    for c in sent:\n",
    "        if c in string.printable:\n",
    "            x.append(c)\n",
    "    \n",
    "    df.at[index, 'sentence'] = \"\".join(x)\n",
    "    "
   ]
  },
  {
   "cell_type": "code",
   "execution_count": 26,
   "metadata": {},
   "outputs": [
    {
     "data": {
      "text/html": [
       "<div>\n",
       "<style scoped>\n",
       "    .dataframe tbody tr th:only-of-type {\n",
       "        vertical-align: middle;\n",
       "    }\n",
       "\n",
       "    .dataframe tbody tr th {\n",
       "        vertical-align: top;\n",
       "    }\n",
       "\n",
       "    .dataframe thead th {\n",
       "        text-align: right;\n",
       "    }\n",
       "</style>\n",
       "<table border=\"1\" class=\"dataframe\">\n",
       "  <thead>\n",
       "    <tr style=\"text-align: right;\">\n",
       "      <th></th>\n",
       "      <th>path</th>\n",
       "      <th>accents</th>\n",
       "      <th>sentence</th>\n",
       "    </tr>\n",
       "  </thead>\n",
       "  <tbody>\n",
       "    <tr>\n",
       "      <th>0</th>\n",
       "      <td>common_voice_en_37476269.mp3</td>\n",
       "      <td>United States English</td>\n",
       "      <td>This led to both the Red Terror and the White ...</td>\n",
       "    </tr>\n",
       "    <tr>\n",
       "      <th>1</th>\n",
       "      <td>common_voice_en_37740889.mp3</td>\n",
       "      <td>England English</td>\n",
       "      <td>Paper wine labels have long been collected</td>\n",
       "    </tr>\n",
       "    <tr>\n",
       "      <th>2</th>\n",
       "      <td>common_voice_en_37607972.mp3</td>\n",
       "      <td>United States English</td>\n",
       "      <td>The number of chime sets matches the number of...</td>\n",
       "    </tr>\n",
       "    <tr>\n",
       "      <th>3</th>\n",
       "      <td>common_voice_en_37437567.mp3</td>\n",
       "      <td>United States English</td>\n",
       "      <td>The Atbara flows only while there is rain in E...</td>\n",
       "    </tr>\n",
       "    <tr>\n",
       "      <th>4</th>\n",
       "      <td>common_voice_en_37288403.mp3</td>\n",
       "      <td>United States English</td>\n",
       "      <td>Katsande and her son were accused of voter int...</td>\n",
       "    </tr>\n",
       "  </tbody>\n",
       "</table>\n",
       "</div>"
      ],
      "text/plain": [
       "                           path                accents  \\\n",
       "0  common_voice_en_37476269.mp3  United States English   \n",
       "1  common_voice_en_37740889.mp3        England English   \n",
       "2  common_voice_en_37607972.mp3  United States English   \n",
       "3  common_voice_en_37437567.mp3  United States English   \n",
       "4  common_voice_en_37288403.mp3  United States English   \n",
       "\n",
       "                                            sentence  \n",
       "0  This led to both the Red Terror and the White ...  \n",
       "1         Paper wine labels have long been collected  \n",
       "2  The number of chime sets matches the number of...  \n",
       "3  The Atbara flows only while there is rain in E...  \n",
       "4  Katsande and her son were accused of voter int...  "
      ]
     },
     "execution_count": 26,
     "metadata": {},
     "output_type": "execute_result"
    }
   ],
   "source": [
    "# save the dataframe to a new tsv file\n",
    "df.head()"
   ]
  },
  {
   "cell_type": "code",
   "execution_count": 27,
   "metadata": {},
   "outputs": [],
   "source": [
    "df.to_csv('Data/validated_top10_cleaned.csv', index=False)"
   ]
  }
 ],
 "metadata": {
  "kernelspec": {
   "display_name": "vizz",
   "language": "python",
   "name": "python3"
  },
  "language_info": {
   "codemirror_mode": {
    "name": "ipython",
    "version": 3
   },
   "file_extension": ".py",
   "mimetype": "text/x-python",
   "name": "python",
   "nbconvert_exporter": "python",
   "pygments_lexer": "ipython3",
   "version": "3.10.13"
  }
 },
 "nbformat": 4,
 "nbformat_minor": 2
}
