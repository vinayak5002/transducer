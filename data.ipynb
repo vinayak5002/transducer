{
 "cells": [
  {
   "cell_type": "code",
   "execution_count": 16,
   "metadata": {},
   "outputs": [],
   "source": [
    "import pandas as pd"
   ]
  },
  {
   "cell_type": "code",
   "execution_count": 17,
   "metadata": {},
   "outputs": [
    {
     "data": {
      "text/html": [
       "<div>\n",
       "<style scoped>\n",
       "    .dataframe tbody tr th:only-of-type {\n",
       "        vertical-align: middle;\n",
       "    }\n",
       "\n",
       "    .dataframe tbody tr th {\n",
       "        vertical-align: top;\n",
       "    }\n",
       "\n",
       "    .dataframe thead th {\n",
       "        text-align: right;\n",
       "    }\n",
       "</style>\n",
       "<table border=\"1\" class=\"dataframe\">\n",
       "  <thead>\n",
       "    <tr style=\"text-align: right;\">\n",
       "      <th></th>\n",
       "      <th>client_id</th>\n",
       "      <th>path</th>\n",
       "      <th>sentence</th>\n",
       "      <th>up_votes</th>\n",
       "      <th>down_votes</th>\n",
       "      <th>age</th>\n",
       "      <th>gender</th>\n",
       "      <th>accents</th>\n",
       "      <th>variant</th>\n",
       "      <th>locale</th>\n",
       "      <th>segment</th>\n",
       "    </tr>\n",
       "  </thead>\n",
       "  <tbody>\n",
       "    <tr>\n",
       "      <th>0</th>\n",
       "      <td>00778b9356111e5c05365103769fb9ec90fc07e08476ad...</td>\n",
       "      <td>common_voice_en_37476269.mp3</td>\n",
       "      <td>This led to both the Red Terror and the White ...</td>\n",
       "      <td>2</td>\n",
       "      <td>0</td>\n",
       "      <td>NaN</td>\n",
       "      <td>NaN</td>\n",
       "      <td>United States English</td>\n",
       "      <td>NaN</td>\n",
       "      <td>en</td>\n",
       "      <td>NaN</td>\n",
       "    </tr>\n",
       "    <tr>\n",
       "      <th>1</th>\n",
       "      <td>023a5e6a4ca85bad19139255b57274785ae3faae96a789...</td>\n",
       "      <td>common_voice_en_37406282.mp3</td>\n",
       "      <td>Its members include representatives of the tea...</td>\n",
       "      <td>2</td>\n",
       "      <td>0</td>\n",
       "      <td>NaN</td>\n",
       "      <td>NaN</td>\n",
       "      <td>NaN</td>\n",
       "      <td>NaN</td>\n",
       "      <td>en</td>\n",
       "      <td>NaN</td>\n",
       "    </tr>\n",
       "    <tr>\n",
       "      <th>2</th>\n",
       "      <td>02efbf700a190d3114277b0b5e1a0cb00f653cfcd215ce...</td>\n",
       "      <td>common_voice_en_37740889.mp3</td>\n",
       "      <td>Paper wine labels have long been collected.</td>\n",
       "      <td>2</td>\n",
       "      <td>0</td>\n",
       "      <td>NaN</td>\n",
       "      <td>NaN</td>\n",
       "      <td>England English</td>\n",
       "      <td>NaN</td>\n",
       "      <td>en</td>\n",
       "      <td>NaN</td>\n",
       "    </tr>\n",
       "    <tr>\n",
       "      <th>3</th>\n",
       "      <td>033de9ff626035f924f0c3e5a907c459b0a5f28c4bdc1c...</td>\n",
       "      <td>common_voice_en_37355311.mp3</td>\n",
       "      <td>I wondered if those birds were redwings?</td>\n",
       "      <td>2</td>\n",
       "      <td>0</td>\n",
       "      <td>NaN</td>\n",
       "      <td>NaN</td>\n",
       "      <td>NaN</td>\n",
       "      <td>NaN</td>\n",
       "      <td>en</td>\n",
       "      <td>NaN</td>\n",
       "    </tr>\n",
       "    <tr>\n",
       "      <th>4</th>\n",
       "      <td>05627b7dd6431caab6b11370280f496f99805ce901f0b5...</td>\n",
       "      <td>common_voice_en_37442699.mp3</td>\n",
       "      <td>Henry Heimlich also promoted abdominal thrusts...</td>\n",
       "      <td>2</td>\n",
       "      <td>0</td>\n",
       "      <td>NaN</td>\n",
       "      <td>NaN</td>\n",
       "      <td>NaN</td>\n",
       "      <td>NaN</td>\n",
       "      <td>en</td>\n",
       "      <td>NaN</td>\n",
       "    </tr>\n",
       "  </tbody>\n",
       "</table>\n",
       "</div>"
      ],
      "text/plain": [
       "                                           client_id  \\\n",
       "0  00778b9356111e5c05365103769fb9ec90fc07e08476ad...   \n",
       "1  023a5e6a4ca85bad19139255b57274785ae3faae96a789...   \n",
       "2  02efbf700a190d3114277b0b5e1a0cb00f653cfcd215ce...   \n",
       "3  033de9ff626035f924f0c3e5a907c459b0a5f28c4bdc1c...   \n",
       "4  05627b7dd6431caab6b11370280f496f99805ce901f0b5...   \n",
       "\n",
       "                           path  \\\n",
       "0  common_voice_en_37476269.mp3   \n",
       "1  common_voice_en_37406282.mp3   \n",
       "2  common_voice_en_37740889.mp3   \n",
       "3  common_voice_en_37355311.mp3   \n",
       "4  common_voice_en_37442699.mp3   \n",
       "\n",
       "                                            sentence  up_votes  down_votes  \\\n",
       "0  This led to both the Red Terror and the White ...         2           0   \n",
       "1  Its members include representatives of the tea...         2           0   \n",
       "2        Paper wine labels have long been collected.         2           0   \n",
       "3           I wondered if those birds were redwings?         2           0   \n",
       "4  Henry Heimlich also promoted abdominal thrusts...         2           0   \n",
       "\n",
       "   age gender                accents  variant locale  segment  \n",
       "0  NaN    NaN  United States English      NaN     en      NaN  \n",
       "1  NaN    NaN                    NaN      NaN     en      NaN  \n",
       "2  NaN    NaN        England English      NaN     en      NaN  \n",
       "3  NaN    NaN                    NaN      NaN     en      NaN  \n",
       "4  NaN    NaN                    NaN      NaN     en      NaN  "
      ]
     },
     "execution_count": 17,
     "metadata": {},
     "output_type": "execute_result"
    }
   ],
   "source": [
    "df = pd.read_table(\"./Data/validated.tsv\")\n",
    "df.head()"
   ]
  },
  {
   "cell_type": "code",
   "execution_count": 18,
   "metadata": {},
   "outputs": [
    {
     "data": {
      "text/plain": [
       "accents\n",
       "United States English                                 960\n",
       "Southern African (South Africa, Zimbabwe, Namibia)    884\n",
       "Canadian English                                      348\n",
       "German English,Non native speaker                     346\n",
       "United States English,Scandinavian                    332\n",
       "England English                                       173\n",
       "Malaysian English                                      93\n",
       "Australian English                                     59\n",
       "United States English,Filipino                         52\n",
       "United States English,Like a Kennedy ,Boston           52\n",
       "Name: count, dtype: int64"
      ]
     },
     "execution_count": 18,
     "metadata": {},
     "output_type": "execute_result"
    }
   ],
   "source": [
    "# keep only rows of top 10 accents\n",
    "top10 = df['accents'].value_counts().head(10).index\n",
    "df = df[df['accents'].isin(top10)]\n",
    "df['accents'].value_counts()"
   ]
  },
  {
   "cell_type": "code",
   "execution_count": 19,
   "metadata": {},
   "outputs": [
    {
     "data": {
      "text/html": [
       "<div>\n",
       "<style scoped>\n",
       "    .dataframe tbody tr th:only-of-type {\n",
       "        vertical-align: middle;\n",
       "    }\n",
       "\n",
       "    .dataframe tbody tr th {\n",
       "        vertical-align: top;\n",
       "    }\n",
       "\n",
       "    .dataframe thead th {\n",
       "        text-align: right;\n",
       "    }\n",
       "</style>\n",
       "<table border=\"1\" class=\"dataframe\">\n",
       "  <thead>\n",
       "    <tr style=\"text-align: right;\">\n",
       "      <th></th>\n",
       "      <th>path</th>\n",
       "      <th>accents</th>\n",
       "      <th>sentence</th>\n",
       "    </tr>\n",
       "  </thead>\n",
       "  <tbody>\n",
       "    <tr>\n",
       "      <th>0</th>\n",
       "      <td>common_voice_en_37476269.mp3</td>\n",
       "      <td>United States English</td>\n",
       "      <td>This led to both the Red Terror and the White ...</td>\n",
       "    </tr>\n",
       "    <tr>\n",
       "      <th>2</th>\n",
       "      <td>common_voice_en_37740889.mp3</td>\n",
       "      <td>England English</td>\n",
       "      <td>Paper wine labels have long been collected.</td>\n",
       "    </tr>\n",
       "    <tr>\n",
       "      <th>6</th>\n",
       "      <td>common_voice_en_37607972.mp3</td>\n",
       "      <td>United States English</td>\n",
       "      <td>The number of chime sets matches the number of...</td>\n",
       "    </tr>\n",
       "    <tr>\n",
       "      <th>8</th>\n",
       "      <td>common_voice_en_37437567.mp3</td>\n",
       "      <td>United States English</td>\n",
       "      <td>The Atbara flows only while there is rain in E...</td>\n",
       "    </tr>\n",
       "    <tr>\n",
       "      <th>10</th>\n",
       "      <td>common_voice_en_37288403.mp3</td>\n",
       "      <td>United States English</td>\n",
       "      <td>Katsande and her son were accused of voter int...</td>\n",
       "    </tr>\n",
       "  </tbody>\n",
       "</table>\n",
       "</div>"
      ],
      "text/plain": [
       "                            path                accents  \\\n",
       "0   common_voice_en_37476269.mp3  United States English   \n",
       "2   common_voice_en_37740889.mp3        England English   \n",
       "6   common_voice_en_37607972.mp3  United States English   \n",
       "8   common_voice_en_37437567.mp3  United States English   \n",
       "10  common_voice_en_37288403.mp3  United States English   \n",
       "\n",
       "                                             sentence  \n",
       "0   This led to both the Red Terror and the White ...  \n",
       "2         Paper wine labels have long been collected.  \n",
       "6   The number of chime sets matches the number of...  \n",
       "8   The Atbara flows only while there is rain in E...  \n",
       "10  Katsande and her son were accused of voter int...  "
      ]
     },
     "execution_count": 19,
     "metadata": {},
     "output_type": "execute_result"
    }
   ],
   "source": [
    "df = df[['path', 'accents', 'sentence']]\n",
    "df.head()\n"
   ]
  },
  {
   "cell_type": "code",
   "execution_count": 20,
   "metadata": {},
   "outputs": [
    {
     "data": {
      "text/plain": [
       "(3299, 3)"
      ]
     },
     "execution_count": 20,
     "metadata": {},
     "output_type": "execute_result"
    }
   ],
   "source": [
    "df.shape"
   ]
  },
  {
   "cell_type": "code",
   "execution_count": 21,
   "metadata": {},
   "outputs": [],
   "source": [
    "df.to_csv('Data/validated_top10.csv', index=False)"
   ]
  },
  {
   "cell_type": "code",
   "execution_count": 22,
   "metadata": {},
   "outputs": [
    {
     "data": {
      "text/html": [
       "<div>\n",
       "<style scoped>\n",
       "    .dataframe tbody tr th:only-of-type {\n",
       "        vertical-align: middle;\n",
       "    }\n",
       "\n",
       "    .dataframe tbody tr th {\n",
       "        vertical-align: top;\n",
       "    }\n",
       "\n",
       "    .dataframe thead th {\n",
       "        text-align: right;\n",
       "    }\n",
       "</style>\n",
       "<table border=\"1\" class=\"dataframe\">\n",
       "  <thead>\n",
       "    <tr style=\"text-align: right;\">\n",
       "      <th></th>\n",
       "      <th>path</th>\n",
       "      <th>accents</th>\n",
       "      <th>sentence</th>\n",
       "    </tr>\n",
       "  </thead>\n",
       "  <tbody>\n",
       "    <tr>\n",
       "      <th>0</th>\n",
       "      <td>common_voice_en_37476269.mp3</td>\n",
       "      <td>United States English</td>\n",
       "      <td>This led to both the Red Terror and the White ...</td>\n",
       "    </tr>\n",
       "    <tr>\n",
       "      <th>1</th>\n",
       "      <td>common_voice_en_37740889.mp3</td>\n",
       "      <td>England English</td>\n",
       "      <td>Paper wine labels have long been collected.</td>\n",
       "    </tr>\n",
       "    <tr>\n",
       "      <th>2</th>\n",
       "      <td>common_voice_en_37607972.mp3</td>\n",
       "      <td>United States English</td>\n",
       "      <td>The number of chime sets matches the number of...</td>\n",
       "    </tr>\n",
       "    <tr>\n",
       "      <th>3</th>\n",
       "      <td>common_voice_en_37437567.mp3</td>\n",
       "      <td>United States English</td>\n",
       "      <td>The Atbara flows only while there is rain in E...</td>\n",
       "    </tr>\n",
       "    <tr>\n",
       "      <th>4</th>\n",
       "      <td>common_voice_en_37288403.mp3</td>\n",
       "      <td>United States English</td>\n",
       "      <td>Katsande and her son were accused of voter int...</td>\n",
       "    </tr>\n",
       "  </tbody>\n",
       "</table>\n",
       "</div>"
      ],
      "text/plain": [
       "                           path                accents  \\\n",
       "0  common_voice_en_37476269.mp3  United States English   \n",
       "1  common_voice_en_37740889.mp3        England English   \n",
       "2  common_voice_en_37607972.mp3  United States English   \n",
       "3  common_voice_en_37437567.mp3  United States English   \n",
       "4  common_voice_en_37288403.mp3  United States English   \n",
       "\n",
       "                                            sentence  \n",
       "0  This led to both the Red Terror and the White ...  \n",
       "1        Paper wine labels have long been collected.  \n",
       "2  The number of chime sets matches the number of...  \n",
       "3  The Atbara flows only while there is rain in E...  \n",
       "4  Katsande and her son were accused of voter int...  "
      ]
     },
     "execution_count": 22,
     "metadata": {},
     "output_type": "execute_result"
    }
   ],
   "source": [
    "df = pd.read_csv('Data/validated_top10.csv', index_col=False)\n",
    "df.head()"
   ]
  },
  {
   "cell_type": "code",
   "execution_count": 23,
   "metadata": {},
   "outputs": [],
   "source": [
    "end = round(0.9 * df.shape[0])\n",
    "train_lines = df[:end]\n",
    "test_lines = df[end:]"
   ]
  },
  {
   "cell_type": "code",
   "execution_count": 24,
   "metadata": {},
   "outputs": [],
   "source": [
    "import librosa"
   ]
  },
  {
   "cell_type": "code",
   "execution_count": 25,
   "metadata": {},
   "outputs": [],
   "source": [
    "import numpy as np\n",
    "audio_path = './Data/clips/common_voice_en_37288403.mp3'\n",
    "y, sr = librosa.load(audio_path)\n",
    "\n",
    "# Compute MFCCs\n",
    "mfcc = np.mean(librosa.feature.mfcc(y=y, sr=sr, n_mfcc=128).T, axis= 0)"
   ]
  },
  {
   "cell_type": "code",
   "execution_count": 26,
   "metadata": {},
   "outputs": [
    {
     "data": {
      "text/plain": [
       "(106370,)"
      ]
     },
     "execution_count": 26,
     "metadata": {},
     "output_type": "execute_result"
    }
   ],
   "source": [
    "y.shape"
   ]
  },
  {
   "cell_type": "code",
   "execution_count": 27,
   "metadata": {},
   "outputs": [],
   "source": [
    "import sys\n",
    "sys.path.append('rnnt/')\n",
    "from AudioDataset import AudioDataset"
   ]
  },
  {
   "cell_type": "code",
   "execution_count": 28,
   "metadata": {},
   "outputs": [],
   "source": [
    "end = round(0.9 * df.shape[0])\n",
    "train = df[:end]\n",
    "test = df[end:]\n",
    "\n",
    "train_set = AudioDataset(train['path'], train['sentence'], train['accents'])\n",
    "test_set = AudioDataset(test['path'], test['sentence'], test['accents'])"
   ]
  },
  {
   "cell_type": "code",
   "execution_count": 29,
   "metadata": {},
   "outputs": [
    {
     "ename": "AttributeError",
     "evalue": "'AudioDataset' object has no attribute 'loader'",
     "output_type": "error",
     "traceback": [
      "\u001b[1;31m---------------------------------------------------------------------------\u001b[0m",
      "\u001b[1;31mAttributeError\u001b[0m                            Traceback (most recent call last)",
      "Cell \u001b[1;32mIn[29], line 4\u001b[0m\n\u001b[0;32m      1\u001b[0m \u001b[38;5;28;01mimport\u001b[39;00m \u001b[38;5;21;01mtqdm\u001b[39;00m\n\u001b[1;32m----> 4\u001b[0m pbar \u001b[38;5;241m=\u001b[39m tqdm(\u001b[43mtrain_set\u001b[49m\u001b[38;5;241;43m.\u001b[39;49m\u001b[43mloader\u001b[49m)\n",
      "\u001b[1;31mAttributeError\u001b[0m: 'AudioDataset' object has no attribute 'loader'"
     ]
    }
   ],
   "source": [
    "import tqdm\n",
    "\n",
    "\n",
    "pbar = tqdm(train_set.loader)"
   ]
  },
  {
   "cell_type": "code",
   "execution_count": null,
   "metadata": {},
   "outputs": [],
   "source": [
    "mfccs = train_set.__getitem__(0)[0]"
   ]
  },
  {
   "cell_type": "code",
   "execution_count": null,
   "metadata": {},
   "outputs": [
    {
     "data": {
      "text/plain": [
       "array([[-6.4883484e+02, -6.4883484e+02, -6.4849475e+02, ...,\n",
       "        -5.2956940e+02, -5.2614172e+02, -5.4585895e+02],\n",
       "       [ 0.0000000e+00,  0.0000000e+00, -2.3577055e-01, ...,\n",
       "        -2.5695023e+01, -2.7831463e+01, -2.0191107e+01],\n",
       "       [ 0.0000000e+00,  0.0000000e+00, -2.4970216e-01, ...,\n",
       "        -1.0212838e+01, -1.5875332e+01, -1.7488293e+01],\n",
       "       ...,\n",
       "       [ 0.0000000e+00,  0.0000000e+00, -1.9037853e-01, ...,\n",
       "        -1.4437845e+01, -1.2097955e+01, -8.4394569e+00],\n",
       "       [ 0.0000000e+00,  0.0000000e+00, -2.8653240e-01, ...,\n",
       "        -6.0396314e-02,  5.8689275e+00,  4.1454673e+00],\n",
       "       [ 0.0000000e+00,  0.0000000e+00,  4.6985769e-01, ...,\n",
       "         6.2060242e+00,  6.7223449e+00,  2.7742450e+00]], dtype=float32)"
      ]
     },
     "execution_count": 29,
     "metadata": {},
     "output_type": "execute_result"
    }
   ],
   "source": [
    "mfccs"
   ]
  },
  {
   "cell_type": "code",
   "execution_count": null,
   "metadata": {},
   "outputs": [],
   "source": []
  }
 ],
 "metadata": {
  "kernelspec": {
   "display_name": "vizz",
   "language": "python",
   "name": "python3"
  },
  "language_info": {
   "codemirror_mode": {
    "name": "ipython",
    "version": 3
   },
   "file_extension": ".py",
   "mimetype": "text/x-python",
   "name": "python",
   "nbconvert_exporter": "python",
   "pygments_lexer": "ipython3",
   "version": "3.10.13"
  }
 },
 "nbformat": 4,
 "nbformat_minor": 2
}
