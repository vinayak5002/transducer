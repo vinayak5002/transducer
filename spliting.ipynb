{
 "cells": [
  {
   "cell_type": "code",
   "execution_count": 2,
   "metadata": {},
   "outputs": [],
   "source": [
    "import pandas as pd"
   ]
  },
  {
   "cell_type": "code",
   "execution_count": 4,
   "metadata": {},
   "outputs": [],
   "source": [
    "df = pd.read_csv('Data/validated_top10.csv')"
   ]
  },
  {
   "cell_type": "code",
   "execution_count": 5,
   "metadata": {},
   "outputs": [
    {
     "data": {
      "text/html": [
       "<div>\n",
       "<style scoped>\n",
       "    .dataframe tbody tr th:only-of-type {\n",
       "        vertical-align: middle;\n",
       "    }\n",
       "\n",
       "    .dataframe tbody tr th {\n",
       "        vertical-align: top;\n",
       "    }\n",
       "\n",
       "    .dataframe thead th {\n",
       "        text-align: right;\n",
       "    }\n",
       "</style>\n",
       "<table border=\"1\" class=\"dataframe\">\n",
       "  <thead>\n",
       "    <tr style=\"text-align: right;\">\n",
       "      <th></th>\n",
       "      <th>path</th>\n",
       "      <th>accents</th>\n",
       "      <th>sentence</th>\n",
       "    </tr>\n",
       "  </thead>\n",
       "  <tbody>\n",
       "    <tr>\n",
       "      <th>0</th>\n",
       "      <td>common_voice_en_37476269.mp3</td>\n",
       "      <td>United States English</td>\n",
       "      <td>This led to both the Red Terror and the White ...</td>\n",
       "    </tr>\n",
       "    <tr>\n",
       "      <th>1</th>\n",
       "      <td>common_voice_en_37740889.mp3</td>\n",
       "      <td>England English</td>\n",
       "      <td>Paper wine labels have long been collected.</td>\n",
       "    </tr>\n",
       "    <tr>\n",
       "      <th>2</th>\n",
       "      <td>common_voice_en_37607972.mp3</td>\n",
       "      <td>United States English</td>\n",
       "      <td>The number of chime sets matches the number of...</td>\n",
       "    </tr>\n",
       "    <tr>\n",
       "      <th>3</th>\n",
       "      <td>common_voice_en_37437567.mp3</td>\n",
       "      <td>United States English</td>\n",
       "      <td>The Atbara flows only while there is rain in E...</td>\n",
       "    </tr>\n",
       "    <tr>\n",
       "      <th>4</th>\n",
       "      <td>common_voice_en_37288403.mp3</td>\n",
       "      <td>United States English</td>\n",
       "      <td>Katsande and her son were accused of voter int...</td>\n",
       "    </tr>\n",
       "  </tbody>\n",
       "</table>\n",
       "</div>"
      ],
      "text/plain": [
       "                           path                accents  \\\n",
       "0  common_voice_en_37476269.mp3  United States English   \n",
       "1  common_voice_en_37740889.mp3        England English   \n",
       "2  common_voice_en_37607972.mp3  United States English   \n",
       "3  common_voice_en_37437567.mp3  United States English   \n",
       "4  common_voice_en_37288403.mp3  United States English   \n",
       "\n",
       "                                            sentence  \n",
       "0  This led to both the Red Terror and the White ...  \n",
       "1        Paper wine labels have long been collected.  \n",
       "2  The number of chime sets matches the number of...  \n",
       "3  The Atbara flows only while there is rain in E...  \n",
       "4  Katsande and her son were accused of voter int...  "
      ]
     },
     "execution_count": 5,
     "metadata": {},
     "output_type": "execute_result"
    }
   ],
   "source": [
    "df.head()"
   ]
  },
  {
   "cell_type": "code",
   "execution_count": 6,
   "metadata": {},
   "outputs": [
    {
     "data": {
      "text/plain": [
       "(3299, 3)"
      ]
     },
     "execution_count": 6,
     "metadata": {},
     "output_type": "execute_result"
    }
   ],
   "source": [
    "df.shape"
   ]
  },
  {
   "cell_type": "code",
   "execution_count": 7,
   "metadata": {},
   "outputs": [],
   "source": [
    "from sklearn.model_selection import train_test_split"
   ]
  },
  {
   "cell_type": "code",
   "execution_count": 8,
   "metadata": {},
   "outputs": [],
   "source": [
    "#splitting the data into training and test sets\n",
    "X_train, X_test, y_train, y_test = train_test_split(df[['path', 'sentence']], df['accents'], random_state = 52)\n"
   ]
  },
  {
   "cell_type": "code",
   "execution_count": 9,
   "metadata": {},
   "outputs": [
    {
     "data": {
      "text/html": [
       "<div>\n",
       "<style scoped>\n",
       "    .dataframe tbody tr th:only-of-type {\n",
       "        vertical-align: middle;\n",
       "    }\n",
       "\n",
       "    .dataframe tbody tr th {\n",
       "        vertical-align: top;\n",
       "    }\n",
       "\n",
       "    .dataframe thead th {\n",
       "        text-align: right;\n",
       "    }\n",
       "</style>\n",
       "<table border=\"1\" class=\"dataframe\">\n",
       "  <thead>\n",
       "    <tr style=\"text-align: right;\">\n",
       "      <th></th>\n",
       "      <th>path</th>\n",
       "      <th>sentence</th>\n",
       "      <th>set</th>\n",
       "    </tr>\n",
       "  </thead>\n",
       "  <tbody>\n",
       "    <tr>\n",
       "      <th>420</th>\n",
       "      <td>common_voice_en_37963922.mp3</td>\n",
       "      <td>Doctor Elizabeth Bartman is the immediate Past...</td>\n",
       "      <td>train</td>\n",
       "    </tr>\n",
       "    <tr>\n",
       "      <th>603</th>\n",
       "      <td>common_voice_en_37457236.mp3</td>\n",
       "      <td>To the south-east Kilmar Tor and Caradon Hill ...</td>\n",
       "      <td>train</td>\n",
       "    </tr>\n",
       "    <tr>\n",
       "      <th>1589</th>\n",
       "      <td>common_voice_en_37570352.mp3</td>\n",
       "      <td>Mike tells Amanda the truth; terrified, she sh...</td>\n",
       "      <td>train</td>\n",
       "    </tr>\n",
       "    <tr>\n",
       "      <th>3191</th>\n",
       "      <td>common_voice_en_37982150.mp3</td>\n",
       "      <td>Mercy unto you and peace and love be multiplied.</td>\n",
       "      <td>train</td>\n",
       "    </tr>\n",
       "    <tr>\n",
       "      <th>3266</th>\n",
       "      <td>common_voice_en_38004270.mp3</td>\n",
       "      <td>The war had reached a stalemate after two year...</td>\n",
       "      <td>train</td>\n",
       "    </tr>\n",
       "  </tbody>\n",
       "</table>\n",
       "</div>"
      ],
      "text/plain": [
       "                              path  \\\n",
       "420   common_voice_en_37963922.mp3   \n",
       "603   common_voice_en_37457236.mp3   \n",
       "1589  common_voice_en_37570352.mp3   \n",
       "3191  common_voice_en_37982150.mp3   \n",
       "3266  common_voice_en_38004270.mp3   \n",
       "\n",
       "                                               sentence    set  \n",
       "420   Doctor Elizabeth Bartman is the immediate Past...  train  \n",
       "603   To the south-east Kilmar Tor and Caradon Hill ...  train  \n",
       "1589  Mike tells Amanda the truth; terrified, she sh...  train  \n",
       "3191   Mercy unto you and peace and love be multiplied.  train  \n",
       "3266  The war had reached a stalemate after two year...  train  "
      ]
     },
     "execution_count": 9,
     "metadata": {},
     "output_type": "execute_result"
    }
   ],
   "source": [
    "# add a column named 'set' to the df X_train with all values set to 'train'\n",
    "X_train['set'] = 'train'\n",
    "X_train.head()"
   ]
  },
  {
   "cell_type": "code",
   "execution_count": 10,
   "metadata": {},
   "outputs": [
    {
     "data": {
      "text/html": [
       "<div>\n",
       "<style scoped>\n",
       "    .dataframe tbody tr th:only-of-type {\n",
       "        vertical-align: middle;\n",
       "    }\n",
       "\n",
       "    .dataframe tbody tr th {\n",
       "        vertical-align: top;\n",
       "    }\n",
       "\n",
       "    .dataframe thead th {\n",
       "        text-align: right;\n",
       "    }\n",
       "</style>\n",
       "<table border=\"1\" class=\"dataframe\">\n",
       "  <thead>\n",
       "    <tr style=\"text-align: right;\">\n",
       "      <th></th>\n",
       "      <th>path</th>\n",
       "      <th>sentence</th>\n",
       "      <th>set</th>\n",
       "    </tr>\n",
       "  </thead>\n",
       "  <tbody>\n",
       "    <tr>\n",
       "      <th>2208</th>\n",
       "      <td>common_voice_en_37289130.mp3</td>\n",
       "      <td>Rock was in these troubled times for its Roman...</td>\n",
       "      <td>test</td>\n",
       "    </tr>\n",
       "    <tr>\n",
       "      <th>588</th>\n",
       "      <td>common_voice_en_37285764.mp3</td>\n",
       "      <td>He then went into business, at the age of seve...</td>\n",
       "      <td>test</td>\n",
       "    </tr>\n",
       "    <tr>\n",
       "      <th>1787</th>\n",
       "      <td>common_voice_en_37654285.mp3</td>\n",
       "      <td>The magazine profiles successful women to prov...</td>\n",
       "      <td>test</td>\n",
       "    </tr>\n",
       "    <tr>\n",
       "      <th>1302</th>\n",
       "      <td>common_voice_en_37539273.mp3</td>\n",
       "      <td>It is one of the most prominent tourist attrac...</td>\n",
       "      <td>test</td>\n",
       "    </tr>\n",
       "    <tr>\n",
       "      <th>297</th>\n",
       "      <td>common_voice_en_37663863.mp3</td>\n",
       "      <td>Their chloroplasts absorb a major portion of t...</td>\n",
       "      <td>test</td>\n",
       "    </tr>\n",
       "  </tbody>\n",
       "</table>\n",
       "</div>"
      ],
      "text/plain": [
       "                              path  \\\n",
       "2208  common_voice_en_37289130.mp3   \n",
       "588   common_voice_en_37285764.mp3   \n",
       "1787  common_voice_en_37654285.mp3   \n",
       "1302  common_voice_en_37539273.mp3   \n",
       "297   common_voice_en_37663863.mp3   \n",
       "\n",
       "                                               sentence   set  \n",
       "2208  Rock was in these troubled times for its Roman...  test  \n",
       "588   He then went into business, at the age of seve...  test  \n",
       "1787  The magazine profiles successful women to prov...  test  \n",
       "1302  It is one of the most prominent tourist attrac...  test  \n",
       "297   Their chloroplasts absorb a major portion of t...  test  "
      ]
     },
     "execution_count": 10,
     "metadata": {},
     "output_type": "execute_result"
    }
   ],
   "source": [
    "# add a column named 'set' to the df X_test with all values set to 'test'\n",
    "X_test['set'] = 'test'\n",
    "X_test.head()"
   ]
  },
  {
   "cell_type": "code",
   "execution_count": 11,
   "metadata": {},
   "outputs": [],
   "source": [
    "# write the X_train and X_test to tsv files\n",
    "X_train.to_csv('Data/train.tsv', sep='\\t', index=False)\n",
    "X_test.to_csv('Data/test.tsv', sep='\\t', index=False)"
   ]
  },
  {
   "cell_type": "code",
   "execution_count": null,
   "metadata": {},
   "outputs": [],
   "source": []
  }
 ],
 "metadata": {
  "kernelspec": {
   "display_name": "Python 3",
   "language": "python",
   "name": "python3"
  },
  "language_info": {
   "codemirror_mode": {
    "name": "ipython",
    "version": 3
   },
   "file_extension": ".py",
   "mimetype": "text/x-python",
   "name": "python",
   "nbconvert_exporter": "python",
   "pygments_lexer": "ipython3",
   "version": "3.11.7"
  }
 },
 "nbformat": 4,
 "nbformat_minor": 2
}
