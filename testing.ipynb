{
 "cells": [
  {
   "cell_type": "code",
   "execution_count": 1,
   "metadata": {},
   "outputs": [],
   "source": [
    "import string"
   ]
  },
  {
   "cell_type": "code",
   "execution_count": 2,
   "metadata": {},
   "outputs": [],
   "source": [
    "def encode_string(s):\n",
    "  for c in s:\n",
    "    if c not in string.printable:\n",
    "      print(s)\n",
    "  return [string.printable.index(c) + 1 for c in s]"
   ]
  },
  {
   "cell_type": "code",
   "execution_count": 5,
   "metadata": {},
   "outputs": [
    {
     "data": {
      "text/plain": [
       "[56,\n",
       " 18,\n",
       " 15,\n",
       " 95,\n",
       " 24,\n",
       " 19,\n",
       " 13,\n",
       " 15,\n",
       " 29,\n",
       " 30,\n",
       " 95,\n",
       " 45,\n",
       " 95,\n",
       " 15,\n",
       " 32,\n",
       " 15,\n",
       " 28,\n",
       " 95,\n",
       " 14,\n",
       " 28,\n",
       " 11,\n",
       " 24,\n",
       " 21,\n",
       " 74,\n",
       " 95,\n",
       " 29,\n",
       " 11,\n",
       " 19,\n",
       " 14,\n",
       " 95,\n",
       " 40,\n",
       " 11,\n",
       " 19,\n",
       " 29,\n",
       " 35,\n",
       " 76]"
      ]
     },
     "execution_count": 5,
     "metadata": {},
     "output_type": "execute_result"
    }
   ],
   "source": [
    "encode_string(\"The nicest I ever drank, said Daisy.\")"
   ]
  }
 ],
 "metadata": {
  "kernelspec": {
   "display_name": "vizz",
   "language": "python",
   "name": "python3"
  },
  "language_info": {
   "codemirror_mode": {
    "name": "ipython",
    "version": 3
   },
   "file_extension": ".py",
   "mimetype": "text/x-python",
   "name": "python",
   "nbconvert_exporter": "python",
   "pygments_lexer": "ipython3",
   "version": "3.10.13"
  }
 },
 "nbformat": 4,
 "nbformat_minor": 2
}
